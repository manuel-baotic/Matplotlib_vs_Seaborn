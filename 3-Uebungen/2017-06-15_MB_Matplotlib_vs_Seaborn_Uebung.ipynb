{
 "cells": [
  {
   "cell_type": "markdown",
   "metadata": {},
   "source": [
    "### Übung zu Matplotlib bzw. Seaborn"
   ]
  },
  {
   "cell_type": "markdown",
   "metadata": {},
   "source": [
    "#### Aufgabe 1 (Theorie)\n",
    "\n",
    "- Was sind berechtigte Kritikpunkte an der Matplotlib Bibliothek? (3 Punkte)\n",
    "\n",
    "- In welcher Phase wird das Reporting im CRISP-DM Prozess eingeordnet und was sind zwei wesentliche Bestandteile dieser Phase"
   ]
  },
  {
   "cell_type": "markdown",
   "metadata": {},
   "source": [
    "#### Aufgabe 2\n",
    "\n",
    "- Laden Sie die benötigten Bibliotheken\n",
    "- Laden Sie den Datensatz \"exercise\" der per Default in der Seaborn Bibliothek enthalten ist mittels `seaborn.load_dataset('exercise')`\n",
    "- Schauen Sie sich den Datensatz an und stellen Sie den beobachteten Puls für die Ausprägungen kind = 'running'  in einem Histogramm über Seaborn dar (Tipp: Zuerst mittels Logikvektor im Dataframe selektieren). Dabei sollten folgende Einstellungen beachtet werden: absolute Häufigkeit sollte gesetzt sein (Tipp: normed=False), dazu passende Achsen Bezeichnungen, Durchsichtigkeit auf '0.5'. Die X-Achse des Histogramms stellt den Puls dar, die Y-Achse die Anzahl der Beobachtungen.\n",
    "- Setzen Sie im nächsten Schritt die default Einstellungen auf Matplotlib zurück und stellen Sie ein Histogramm dar nach dem Kriterium kind = 'rest'. Zusätzlich sollte ein Gitternetz im Koordinatensystem angezeigt werden. Die übrigen Angaben können gleich bleiben."
   ]
  },
  {
   "cell_type": "markdown",
   "metadata": {},
   "source": [
    "#### Aufgabe 3\n",
    "\n",
    "- Laden Sie den Datensatz \"tips\" der per default in der Seaborn Bibliothek enhtalten ist.\n",
    "- Stellen Sie einen Vergleich mittels **Facegrid** und einen **Scatterplot** auf unter folgenden Vergleichskriterien und Parametereinstellungen:\n",
    "    - Die X-Achse soll die Rechnungshöhe darstellen\n",
    "    - Die Y-Achse soll die Trinkgelhöhe darstellen\n",
    "    - Es soll spaltenweise nach der Variable 'day' unterschieden werden (Tipp: Parameter cols)\n",
    "    - Es soll nach der Variable 'time' eingefärbt werden\n",
    "    - Der Seaborn Kontext soll auf 'paper' gesetzt werden mit Schriftgröße '1.5'\n",
    "    - Eine Legende für die farbliche Unterscheidung soll hinzugefügt werden\n",
    "    - Der Plot soll als PNG Format mit der Bezeichnung \"Vergleich.png\" exportiert werden "
   ]
  }
 ],
 "metadata": {
  "kernelspec": {
   "display_name": "Python 3",
   "language": "python",
   "name": "python3"
  },
  "language_info": {
   "codemirror_mode": {
    "name": "ipython",
    "version": 3
   },
   "file_extension": ".py",
   "mimetype": "text/x-python",
   "name": "python",
   "nbconvert_exporter": "python",
   "pygments_lexer": "ipython3",
   "version": "3.6.1"
  }
 },
 "nbformat": 4,
 "nbformat_minor": 2
}
